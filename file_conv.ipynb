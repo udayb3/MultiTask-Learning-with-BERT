{
 "cells": [
  {
   "cell_type": "markdown",
   "metadata": {},
   "source": [
    "## Creating train and test files"
   ]
  },
  {
   "cell_type": "code",
   "execution_count": 1,
   "metadata": {},
   "outputs": [],
   "source": [
    "import pandas as pd\n",
    "from sklearn.model_selection import train_test_split\n",
    "\n",
    "def split_datafiles(file_path: str, output_name: tuple):\n",
    "    df= pd.read_csv(file_path, sep='\\t')\n",
    "    data= df.sample(100, replace= False)\n",
    "    train_data, test_data= train_test_split( data, test_size=0.3, random_state= 42)\n",
    "    train_data.to_csv(output_name[0], sep=\"\\t\");  test_data.to_csv(output_name[1], sep=\"\\t\")\n",
    "\n",
    "files= [\n",
    "    ( 'final_emotion.csv', 'train_emotion.csv', 'test_emotion.csv' ),\n",
    "    ( 'final_sentiment.csv', 'train_sentiment.csv', 'test_sentiment.csv' ),\n",
    "    ( 'final_similarity.csv', 'train_similarity.csv', 'test_similarity.csv' ),\n",
    "    ( 'final_paraphase.csv', 'train_paraphase.csv', 'test_paraphase.csv' ),\n",
    "]\n",
    "\n",
    "for item in files:\n",
    "    split_datafiles(item[0], (item[1], item[2]))"
   ]
  }
 ],
 "metadata": {
  "kernelspec": {
   "display_name": "hp3",
   "language": "python",
   "name": "python3"
  },
  "language_info": {
   "codemirror_mode": {
    "name": "ipython",
    "version": 3
   },
   "file_extension": ".py",
   "mimetype": "text/x-python",
   "name": "python",
   "nbconvert_exporter": "python",
   "pygments_lexer": "ipython3",
   "version": "3.10.15"
  }
 },
 "nbformat": 4,
 "nbformat_minor": 2
}
